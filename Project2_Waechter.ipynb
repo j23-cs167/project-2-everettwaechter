{
  "nbformat": 4,
  "nbformat_minor": 0,
  "metadata": {
    "colab": {
      "provenance": [],
      "include_colab_link": true
    },
    "kernelspec": {
      "name": "python3",
      "display_name": "Python 3"
    },
    "language_info": {
      "name": "python"
    },
    "accelerator": "GPU",
    "gpuClass": "standard"
  },
  "cells": [
    {
      "cell_type": "markdown",
      "metadata": {
        "id": "view-in-github",
        "colab_type": "text"
      },
      "source": [
        "<a href=\"https://colab.research.google.com/github/j23-cs167/project-2-everettwaechter/blob/main/Project2_Waechter.ipynb\" target=\"_parent\"><img src=\"https://colab.research.google.com/assets/colab-badge.svg\" alt=\"Open In Colab\"/></a>"
      ]
    },
    {
      "cell_type": "markdown",
      "source": [
        "# Project #2\n",
        "##Name: Everett Waechter\n",
        "\n",
        "Proposed Points (out of 25):"
      ],
      "metadata": {
        "id": "rIepkBIuT_Pl"
      }
    },
    {
      "cell_type": "markdown",
      "source": [
        "# 1. Problem\n",
        "State the problem you are trying to solve with this machine learning experiment. Include a description of the data, where you got the data, and what you're trying to predict.."
      ],
      "metadata": {
        "id": "HbwKLNhzP8YO"
      }
    },
    {
      "cell_type": "markdown",
      "source": [
        "I am using the KenPom NCAA men's basketball rankings for the week of January 19th, 2023. I got the data off of the Kenpom website and I am going to try and predict rank based on Adjusted offensive efficiency, Adjusted defensive efficiency, Adjusted ."
      ],
      "metadata": {
        "id": "LwseoUsMmCz2"
      }
    },
    {
      "cell_type": "markdown",
      "source": [
        "# 2. Data Preparation\n",
        "Explain your data preparation. What did you have to do to get your data in shape for your experiments? Why are you certain that you data is clean and prepared for use in your algorithms?"
      ],
      "metadata": {
        "id": "qR_foVOeQVL7"
      }
    },
    {
      "cell_type": "markdown",
      "source": [
        "Pulling the data off the website was a bit of a pain in the ass so I used excel as I am familiar with it to copy and paste the data into a spreadsheet then I saved it as a CSV. This data set did not have any missing values so I did not have to mess with that. Also in Excel I was able to doublecheck that all my values that I want to use for my predictors and target are integers. "
      ],
      "metadata": {
        "id": "aMDJDnW_mOWu"
      }
    },
    {
      "cell_type": "code",
      "source": [
        "# load and prepare your data here\n",
        "import pandas\n",
        "import numpy\n",
        "from google.colab import drive\n",
        "import pandas as pd\n",
        "import sklearn\n",
        "import pandas\n",
        "from sklearn import tree\n",
        "from sklearn.model_selection import train_test_split\n",
        "from sklearn import metrics\n",
        "from sklearn import neighbors\n",
        "from sklearn.preprocessing import StandardScaler\n",
        "drive.mount('/content/drive')\n",
        "\n",
        "data = pandas.read_csv('/content/drive/My Drive/Colab Notebooks/Datasets/KenPom2023.csv')\n",
        "data.head()"
      ],
      "metadata": {
        "id": "9dUdBChRmKxR",
        "colab": {
          "base_uri": "https://localhost:8080/",
          "height": 317
        },
        "outputId": "f03d7e0d-9457-46a5-9012-0fea15d413cb"
      },
      "execution_count": 1,
      "outputs": [
        {
          "output_type": "stream",
          "name": "stdout",
          "text": [
            "Mounted at /content/drive\n"
          ]
        },
        {
          "output_type": "execute_result",
          "data": {
            "text/plain": [
              "   Rk       Team  Conf   W  L  AdjEM   AdjO  AdjO_rank  AdjD  AdjD_rank  ...  \\\n",
              "0   1    Houston  Amer  18  1  31.73  118.1          6  86.4          2  ...   \n",
              "1   2  Tennessee   SEC  15  3  28.35  112.3         46  84.0          1  ...   \n",
              "2   3       UCLA   P12  17  2  28.18  116.8         12  88.6          5  ...   \n",
              "3   4    Alabama   SEC  16  2  27.03  116.6         13  89.5          7  ...   \n",
              "4   5     Purdue   B10  18  1  26.30  119.6          3  93.3         18  ...   \n",
              "\n",
              "    Luck  Luck_rank  AdjEM.1  AdjEM_rank   OppO  OppO_rank   OppD  OppD_rank  \\\n",
              "0  0.030        116     2.17         107  105.9         87  103.7        144   \n",
              "1 -0.017        216     4.67          58  106.1         73  101.4         50   \n",
              "2 -0.004        180     6.02          31  107.6         30  101.5         54   \n",
              "3  0.060         71     9.62           3  108.6         11   99.0          3   \n",
              "4  0.016        145     5.81          36  106.8         49  101.0         40   \n",
              "\n",
              "   NC_AdjEM  NC_AdjEM_rank  \n",
              "0      0.58            160  \n",
              "1      1.85            117  \n",
              "2      0.98            152  \n",
              "3      8.30             12  \n",
              "4      1.14            147  \n",
              "\n",
              "[5 rows x 22 columns]"
            ],
            "text/html": [
              "\n",
              "  <div id=\"df-2a4152a5-8740-4510-ae34-7b3a43640ff8\">\n",
              "    <div class=\"colab-df-container\">\n",
              "      <div>\n",
              "<style scoped>\n",
              "    .dataframe tbody tr th:only-of-type {\n",
              "        vertical-align: middle;\n",
              "    }\n",
              "\n",
              "    .dataframe tbody tr th {\n",
              "        vertical-align: top;\n",
              "    }\n",
              "\n",
              "    .dataframe thead th {\n",
              "        text-align: right;\n",
              "    }\n",
              "</style>\n",
              "<table border=\"1\" class=\"dataframe\">\n",
              "  <thead>\n",
              "    <tr style=\"text-align: right;\">\n",
              "      <th></th>\n",
              "      <th>Rk</th>\n",
              "      <th>Team</th>\n",
              "      <th>Conf</th>\n",
              "      <th>W</th>\n",
              "      <th>L</th>\n",
              "      <th>AdjEM</th>\n",
              "      <th>AdjO</th>\n",
              "      <th>AdjO_rank</th>\n",
              "      <th>AdjD</th>\n",
              "      <th>AdjD_rank</th>\n",
              "      <th>...</th>\n",
              "      <th>Luck</th>\n",
              "      <th>Luck_rank</th>\n",
              "      <th>AdjEM.1</th>\n",
              "      <th>AdjEM_rank</th>\n",
              "      <th>OppO</th>\n",
              "      <th>OppO_rank</th>\n",
              "      <th>OppD</th>\n",
              "      <th>OppD_rank</th>\n",
              "      <th>NC_AdjEM</th>\n",
              "      <th>NC_AdjEM_rank</th>\n",
              "    </tr>\n",
              "  </thead>\n",
              "  <tbody>\n",
              "    <tr>\n",
              "      <th>0</th>\n",
              "      <td>1</td>\n",
              "      <td>Houston</td>\n",
              "      <td>Amer</td>\n",
              "      <td>18</td>\n",
              "      <td>1</td>\n",
              "      <td>31.73</td>\n",
              "      <td>118.1</td>\n",
              "      <td>6</td>\n",
              "      <td>86.4</td>\n",
              "      <td>2</td>\n",
              "      <td>...</td>\n",
              "      <td>0.030</td>\n",
              "      <td>116</td>\n",
              "      <td>2.17</td>\n",
              "      <td>107</td>\n",
              "      <td>105.9</td>\n",
              "      <td>87</td>\n",
              "      <td>103.7</td>\n",
              "      <td>144</td>\n",
              "      <td>0.58</td>\n",
              "      <td>160</td>\n",
              "    </tr>\n",
              "    <tr>\n",
              "      <th>1</th>\n",
              "      <td>2</td>\n",
              "      <td>Tennessee</td>\n",
              "      <td>SEC</td>\n",
              "      <td>15</td>\n",
              "      <td>3</td>\n",
              "      <td>28.35</td>\n",
              "      <td>112.3</td>\n",
              "      <td>46</td>\n",
              "      <td>84.0</td>\n",
              "      <td>1</td>\n",
              "      <td>...</td>\n",
              "      <td>-0.017</td>\n",
              "      <td>216</td>\n",
              "      <td>4.67</td>\n",
              "      <td>58</td>\n",
              "      <td>106.1</td>\n",
              "      <td>73</td>\n",
              "      <td>101.4</td>\n",
              "      <td>50</td>\n",
              "      <td>1.85</td>\n",
              "      <td>117</td>\n",
              "    </tr>\n",
              "    <tr>\n",
              "      <th>2</th>\n",
              "      <td>3</td>\n",
              "      <td>UCLA</td>\n",
              "      <td>P12</td>\n",
              "      <td>17</td>\n",
              "      <td>2</td>\n",
              "      <td>28.18</td>\n",
              "      <td>116.8</td>\n",
              "      <td>12</td>\n",
              "      <td>88.6</td>\n",
              "      <td>5</td>\n",
              "      <td>...</td>\n",
              "      <td>-0.004</td>\n",
              "      <td>180</td>\n",
              "      <td>6.02</td>\n",
              "      <td>31</td>\n",
              "      <td>107.6</td>\n",
              "      <td>30</td>\n",
              "      <td>101.5</td>\n",
              "      <td>54</td>\n",
              "      <td>0.98</td>\n",
              "      <td>152</td>\n",
              "    </tr>\n",
              "    <tr>\n",
              "      <th>3</th>\n",
              "      <td>4</td>\n",
              "      <td>Alabama</td>\n",
              "      <td>SEC</td>\n",
              "      <td>16</td>\n",
              "      <td>2</td>\n",
              "      <td>27.03</td>\n",
              "      <td>116.6</td>\n",
              "      <td>13</td>\n",
              "      <td>89.5</td>\n",
              "      <td>7</td>\n",
              "      <td>...</td>\n",
              "      <td>0.060</td>\n",
              "      <td>71</td>\n",
              "      <td>9.62</td>\n",
              "      <td>3</td>\n",
              "      <td>108.6</td>\n",
              "      <td>11</td>\n",
              "      <td>99.0</td>\n",
              "      <td>3</td>\n",
              "      <td>8.30</td>\n",
              "      <td>12</td>\n",
              "    </tr>\n",
              "    <tr>\n",
              "      <th>4</th>\n",
              "      <td>5</td>\n",
              "      <td>Purdue</td>\n",
              "      <td>B10</td>\n",
              "      <td>18</td>\n",
              "      <td>1</td>\n",
              "      <td>26.30</td>\n",
              "      <td>119.6</td>\n",
              "      <td>3</td>\n",
              "      <td>93.3</td>\n",
              "      <td>18</td>\n",
              "      <td>...</td>\n",
              "      <td>0.016</td>\n",
              "      <td>145</td>\n",
              "      <td>5.81</td>\n",
              "      <td>36</td>\n",
              "      <td>106.8</td>\n",
              "      <td>49</td>\n",
              "      <td>101.0</td>\n",
              "      <td>40</td>\n",
              "      <td>1.14</td>\n",
              "      <td>147</td>\n",
              "    </tr>\n",
              "  </tbody>\n",
              "</table>\n",
              "<p>5 rows × 22 columns</p>\n",
              "</div>\n",
              "      <button class=\"colab-df-convert\" onclick=\"convertToInteractive('df-2a4152a5-8740-4510-ae34-7b3a43640ff8')\"\n",
              "              title=\"Convert this dataframe to an interactive table.\"\n",
              "              style=\"display:none;\">\n",
              "        \n",
              "  <svg xmlns=\"http://www.w3.org/2000/svg\" height=\"24px\"viewBox=\"0 0 24 24\"\n",
              "       width=\"24px\">\n",
              "    <path d=\"M0 0h24v24H0V0z\" fill=\"none\"/>\n",
              "    <path d=\"M18.56 5.44l.94 2.06.94-2.06 2.06-.94-2.06-.94-.94-2.06-.94 2.06-2.06.94zm-11 1L8.5 8.5l.94-2.06 2.06-.94-2.06-.94L8.5 2.5l-.94 2.06-2.06.94zm10 10l.94 2.06.94-2.06 2.06-.94-2.06-.94-.94-2.06-.94 2.06-2.06.94z\"/><path d=\"M17.41 7.96l-1.37-1.37c-.4-.4-.92-.59-1.43-.59-.52 0-1.04.2-1.43.59L10.3 9.45l-7.72 7.72c-.78.78-.78 2.05 0 2.83L4 21.41c.39.39.9.59 1.41.59.51 0 1.02-.2 1.41-.59l7.78-7.78 2.81-2.81c.8-.78.8-2.07 0-2.86zM5.41 20L4 18.59l7.72-7.72 1.47 1.35L5.41 20z\"/>\n",
              "  </svg>\n",
              "      </button>\n",
              "      \n",
              "  <style>\n",
              "    .colab-df-container {\n",
              "      display:flex;\n",
              "      flex-wrap:wrap;\n",
              "      gap: 12px;\n",
              "    }\n",
              "\n",
              "    .colab-df-convert {\n",
              "      background-color: #E8F0FE;\n",
              "      border: none;\n",
              "      border-radius: 50%;\n",
              "      cursor: pointer;\n",
              "      display: none;\n",
              "      fill: #1967D2;\n",
              "      height: 32px;\n",
              "      padding: 0 0 0 0;\n",
              "      width: 32px;\n",
              "    }\n",
              "\n",
              "    .colab-df-convert:hover {\n",
              "      background-color: #E2EBFA;\n",
              "      box-shadow: 0px 1px 2px rgba(60, 64, 67, 0.3), 0px 1px 3px 1px rgba(60, 64, 67, 0.15);\n",
              "      fill: #174EA6;\n",
              "    }\n",
              "\n",
              "    [theme=dark] .colab-df-convert {\n",
              "      background-color: #3B4455;\n",
              "      fill: #D2E3FC;\n",
              "    }\n",
              "\n",
              "    [theme=dark] .colab-df-convert:hover {\n",
              "      background-color: #434B5C;\n",
              "      box-shadow: 0px 1px 3px 1px rgba(0, 0, 0, 0.15);\n",
              "      filter: drop-shadow(0px 1px 2px rgba(0, 0, 0, 0.3));\n",
              "      fill: #FFFFFF;\n",
              "    }\n",
              "  </style>\n",
              "\n",
              "      <script>\n",
              "        const buttonEl =\n",
              "          document.querySelector('#df-2a4152a5-8740-4510-ae34-7b3a43640ff8 button.colab-df-convert');\n",
              "        buttonEl.style.display =\n",
              "          google.colab.kernel.accessAllowed ? 'block' : 'none';\n",
              "\n",
              "        async function convertToInteractive(key) {\n",
              "          const element = document.querySelector('#df-2a4152a5-8740-4510-ae34-7b3a43640ff8');\n",
              "          const dataTable =\n",
              "            await google.colab.kernel.invokeFunction('convertToInteractive',\n",
              "                                                     [key], {});\n",
              "          if (!dataTable) return;\n",
              "\n",
              "          const docLinkHtml = 'Like what you see? Visit the ' +\n",
              "            '<a target=\"_blank\" href=https://colab.research.google.com/notebooks/data_table.ipynb>data table notebook</a>'\n",
              "            + ' to learn more about interactive tables.';\n",
              "          element.innerHTML = '';\n",
              "          dataTable['output_type'] = 'display_data';\n",
              "          await google.colab.output.renderOutput(dataTable, element);\n",
              "          const docLink = document.createElement('div');\n",
              "          docLink.innerHTML = docLinkHtml;\n",
              "          element.appendChild(docLink);\n",
              "        }\n",
              "      </script>\n",
              "    </div>\n",
              "  </div>\n",
              "  "
            ]
          },
          "metadata": {},
          "execution_count": 1
        }
      ]
    },
    {
      "cell_type": "markdown",
      "source": [
        "# 3. Research\n",
        "\n",
        "Put your code and your experiments here."
      ],
      "metadata": {
        "id": "Hc7HMmNPR10W"
      }
    },
    {
      "cell_type": "code",
      "source": [
        "# code goes here... don't forget to include graphs. \n",
        "target= 'Rk'\n",
        "\n",
        "predictors = ['Rk','W', 'L', 'AdjO', 'AdjO_rank', 'AdjD',\n",
        "       'AdjD_rank', 'AdjT', 'AdjT_rank', 'Luck', 'Luck_rank', 'AdjEM.1',\n",
        "       'AdjEM_rank', 'OppO', 'OppO_rank', 'OppD', 'OppD_rank', 'NC_AdjEM',\n",
        "       'NC_AdjEM_rank']\n",
        "train_data, test_data, train_sln, test_sln = train_test_split(data[predictors], data[target], test_size = 0.2, random_state=41)\n",
        "train_data.head()"
      ],
      "metadata": {
        "id": "XfaACsEOR4U5",
        "colab": {
          "base_uri": "https://localhost:8080/",
          "height": 206
        },
        "outputId": "be8dfc5d-f37f-48a9-9b6e-42092a92a028"
      },
      "execution_count": 2,
      "outputs": [
        {
          "output_type": "execute_result",
          "data": {
            "text/plain": [
              "      Rk   W   L   AdjO  AdjO_rank   AdjD  AdjD_rank  AdjT  AdjT_rank   Luck  \\\n",
              "237  238   8  10  100.9        242  106.8        228  63.8        335  0.122   \n",
              "359  360   2  18   93.6        346  118.3        362  66.0        268  0.019   \n",
              "357  358   1  15   90.9        356  114.0        343  67.2        208 -0.066   \n",
              "295  296  11   9  100.2        256  110.5        305  65.7        278  0.126   \n",
              "349  350   7  12   94.5        342  112.6        334  67.5        187 -0.026   \n",
              "\n",
              "     Luck_rank  AdjEM.1  AdjEM_rank   OppO  OppO_rank   OppD  OppD_rank  \\\n",
              "237         15     1.90         118  106.5         58  104.5        194   \n",
              "359        141    -1.20         220  104.3        175  105.5        257   \n",
              "357        311     2.81          99  105.3        117  102.5         88   \n",
              "295         13    -2.24         257  103.5        224  105.8        273   \n",
              "349        228    -6.70         350  100.5        348  107.2        334   \n",
              "\n",
              "     NC_AdjEM  NC_AdjEM_rank  \n",
              "237     -2.90            266  \n",
              "359      1.76            122  \n",
              "357      6.09             30  \n",
              "295      3.93             68  \n",
              "349     -4.31            302  "
            ],
            "text/html": [
              "\n",
              "  <div id=\"df-aa95d997-0f96-454d-9ae0-4da85a9fa9b0\">\n",
              "    <div class=\"colab-df-container\">\n",
              "      <div>\n",
              "<style scoped>\n",
              "    .dataframe tbody tr th:only-of-type {\n",
              "        vertical-align: middle;\n",
              "    }\n",
              "\n",
              "    .dataframe tbody tr th {\n",
              "        vertical-align: top;\n",
              "    }\n",
              "\n",
              "    .dataframe thead th {\n",
              "        text-align: right;\n",
              "    }\n",
              "</style>\n",
              "<table border=\"1\" class=\"dataframe\">\n",
              "  <thead>\n",
              "    <tr style=\"text-align: right;\">\n",
              "      <th></th>\n",
              "      <th>Rk</th>\n",
              "      <th>W</th>\n",
              "      <th>L</th>\n",
              "      <th>AdjO</th>\n",
              "      <th>AdjO_rank</th>\n",
              "      <th>AdjD</th>\n",
              "      <th>AdjD_rank</th>\n",
              "      <th>AdjT</th>\n",
              "      <th>AdjT_rank</th>\n",
              "      <th>Luck</th>\n",
              "      <th>Luck_rank</th>\n",
              "      <th>AdjEM.1</th>\n",
              "      <th>AdjEM_rank</th>\n",
              "      <th>OppO</th>\n",
              "      <th>OppO_rank</th>\n",
              "      <th>OppD</th>\n",
              "      <th>OppD_rank</th>\n",
              "      <th>NC_AdjEM</th>\n",
              "      <th>NC_AdjEM_rank</th>\n",
              "    </tr>\n",
              "  </thead>\n",
              "  <tbody>\n",
              "    <tr>\n",
              "      <th>237</th>\n",
              "      <td>238</td>\n",
              "      <td>8</td>\n",
              "      <td>10</td>\n",
              "      <td>100.9</td>\n",
              "      <td>242</td>\n",
              "      <td>106.8</td>\n",
              "      <td>228</td>\n",
              "      <td>63.8</td>\n",
              "      <td>335</td>\n",
              "      <td>0.122</td>\n",
              "      <td>15</td>\n",
              "      <td>1.90</td>\n",
              "      <td>118</td>\n",
              "      <td>106.5</td>\n",
              "      <td>58</td>\n",
              "      <td>104.5</td>\n",
              "      <td>194</td>\n",
              "      <td>-2.90</td>\n",
              "      <td>266</td>\n",
              "    </tr>\n",
              "    <tr>\n",
              "      <th>359</th>\n",
              "      <td>360</td>\n",
              "      <td>2</td>\n",
              "      <td>18</td>\n",
              "      <td>93.6</td>\n",
              "      <td>346</td>\n",
              "      <td>118.3</td>\n",
              "      <td>362</td>\n",
              "      <td>66.0</td>\n",
              "      <td>268</td>\n",
              "      <td>0.019</td>\n",
              "      <td>141</td>\n",
              "      <td>-1.20</td>\n",
              "      <td>220</td>\n",
              "      <td>104.3</td>\n",
              "      <td>175</td>\n",
              "      <td>105.5</td>\n",
              "      <td>257</td>\n",
              "      <td>1.76</td>\n",
              "      <td>122</td>\n",
              "    </tr>\n",
              "    <tr>\n",
              "      <th>357</th>\n",
              "      <td>358</td>\n",
              "      <td>1</td>\n",
              "      <td>15</td>\n",
              "      <td>90.9</td>\n",
              "      <td>356</td>\n",
              "      <td>114.0</td>\n",
              "      <td>343</td>\n",
              "      <td>67.2</td>\n",
              "      <td>208</td>\n",
              "      <td>-0.066</td>\n",
              "      <td>311</td>\n",
              "      <td>2.81</td>\n",
              "      <td>99</td>\n",
              "      <td>105.3</td>\n",
              "      <td>117</td>\n",
              "      <td>102.5</td>\n",
              "      <td>88</td>\n",
              "      <td>6.09</td>\n",
              "      <td>30</td>\n",
              "    </tr>\n",
              "    <tr>\n",
              "      <th>295</th>\n",
              "      <td>296</td>\n",
              "      <td>11</td>\n",
              "      <td>9</td>\n",
              "      <td>100.2</td>\n",
              "      <td>256</td>\n",
              "      <td>110.5</td>\n",
              "      <td>305</td>\n",
              "      <td>65.7</td>\n",
              "      <td>278</td>\n",
              "      <td>0.126</td>\n",
              "      <td>13</td>\n",
              "      <td>-2.24</td>\n",
              "      <td>257</td>\n",
              "      <td>103.5</td>\n",
              "      <td>224</td>\n",
              "      <td>105.8</td>\n",
              "      <td>273</td>\n",
              "      <td>3.93</td>\n",
              "      <td>68</td>\n",
              "    </tr>\n",
              "    <tr>\n",
              "      <th>349</th>\n",
              "      <td>350</td>\n",
              "      <td>7</td>\n",
              "      <td>12</td>\n",
              "      <td>94.5</td>\n",
              "      <td>342</td>\n",
              "      <td>112.6</td>\n",
              "      <td>334</td>\n",
              "      <td>67.5</td>\n",
              "      <td>187</td>\n",
              "      <td>-0.026</td>\n",
              "      <td>228</td>\n",
              "      <td>-6.70</td>\n",
              "      <td>350</td>\n",
              "      <td>100.5</td>\n",
              "      <td>348</td>\n",
              "      <td>107.2</td>\n",
              "      <td>334</td>\n",
              "      <td>-4.31</td>\n",
              "      <td>302</td>\n",
              "    </tr>\n",
              "  </tbody>\n",
              "</table>\n",
              "</div>\n",
              "      <button class=\"colab-df-convert\" onclick=\"convertToInteractive('df-aa95d997-0f96-454d-9ae0-4da85a9fa9b0')\"\n",
              "              title=\"Convert this dataframe to an interactive table.\"\n",
              "              style=\"display:none;\">\n",
              "        \n",
              "  <svg xmlns=\"http://www.w3.org/2000/svg\" height=\"24px\"viewBox=\"0 0 24 24\"\n",
              "       width=\"24px\">\n",
              "    <path d=\"M0 0h24v24H0V0z\" fill=\"none\"/>\n",
              "    <path d=\"M18.56 5.44l.94 2.06.94-2.06 2.06-.94-2.06-.94-.94-2.06-.94 2.06-2.06.94zm-11 1L8.5 8.5l.94-2.06 2.06-.94-2.06-.94L8.5 2.5l-.94 2.06-2.06.94zm10 10l.94 2.06.94-2.06 2.06-.94-2.06-.94-.94-2.06-.94 2.06-2.06.94z\"/><path d=\"M17.41 7.96l-1.37-1.37c-.4-.4-.92-.59-1.43-.59-.52 0-1.04.2-1.43.59L10.3 9.45l-7.72 7.72c-.78.78-.78 2.05 0 2.83L4 21.41c.39.39.9.59 1.41.59.51 0 1.02-.2 1.41-.59l7.78-7.78 2.81-2.81c.8-.78.8-2.07 0-2.86zM5.41 20L4 18.59l7.72-7.72 1.47 1.35L5.41 20z\"/>\n",
              "  </svg>\n",
              "      </button>\n",
              "      \n",
              "  <style>\n",
              "    .colab-df-container {\n",
              "      display:flex;\n",
              "      flex-wrap:wrap;\n",
              "      gap: 12px;\n",
              "    }\n",
              "\n",
              "    .colab-df-convert {\n",
              "      background-color: #E8F0FE;\n",
              "      border: none;\n",
              "      border-radius: 50%;\n",
              "      cursor: pointer;\n",
              "      display: none;\n",
              "      fill: #1967D2;\n",
              "      height: 32px;\n",
              "      padding: 0 0 0 0;\n",
              "      width: 32px;\n",
              "    }\n",
              "\n",
              "    .colab-df-convert:hover {\n",
              "      background-color: #E2EBFA;\n",
              "      box-shadow: 0px 1px 2px rgba(60, 64, 67, 0.3), 0px 1px 3px 1px rgba(60, 64, 67, 0.15);\n",
              "      fill: #174EA6;\n",
              "    }\n",
              "\n",
              "    [theme=dark] .colab-df-convert {\n",
              "      background-color: #3B4455;\n",
              "      fill: #D2E3FC;\n",
              "    }\n",
              "\n",
              "    [theme=dark] .colab-df-convert:hover {\n",
              "      background-color: #434B5C;\n",
              "      box-shadow: 0px 1px 3px 1px rgba(0, 0, 0, 0.15);\n",
              "      filter: drop-shadow(0px 1px 2px rgba(0, 0, 0, 0.3));\n",
              "      fill: #FFFFFF;\n",
              "    }\n",
              "  </style>\n",
              "\n",
              "      <script>\n",
              "        const buttonEl =\n",
              "          document.querySelector('#df-aa95d997-0f96-454d-9ae0-4da85a9fa9b0 button.colab-df-convert');\n",
              "        buttonEl.style.display =\n",
              "          google.colab.kernel.accessAllowed ? 'block' : 'none';\n",
              "\n",
              "        async function convertToInteractive(key) {\n",
              "          const element = document.querySelector('#df-aa95d997-0f96-454d-9ae0-4da85a9fa9b0');\n",
              "          const dataTable =\n",
              "            await google.colab.kernel.invokeFunction('convertToInteractive',\n",
              "                                                     [key], {});\n",
              "          if (!dataTable) return;\n",
              "\n",
              "          const docLinkHtml = 'Like what you see? Visit the ' +\n",
              "            '<a target=\"_blank\" href=https://colab.research.google.com/notebooks/data_table.ipynb>data table notebook</a>'\n",
              "            + ' to learn more about interactive tables.';\n",
              "          element.innerHTML = '';\n",
              "          dataTable['output_type'] = 'display_data';\n",
              "          await google.colab.output.renderOutput(dataTable, element);\n",
              "          const docLink = document.createElement('div');\n",
              "          docLink.innerHTML = docLinkHtml;\n",
              "          element.appendChild(docLink);\n",
              "        }\n",
              "      </script>\n",
              "    </div>\n",
              "  </div>\n",
              "  "
            ]
          },
          "metadata": {},
          "execution_count": 2
        }
      ]
    },
    {
      "cell_type": "code",
      "source": [
        "from sklearn.dummy import DummyRegressor\n",
        "from sklearn import metrics\n",
        "\n",
        "\n",
        "dummy_regr = DummyRegressor() \n",
        "dummy_regr.fit(train_data, train_sln)\n",
        "preds = dummy_regr.predict(test_data)\n",
        "\n",
        "print('MAE: ', metrics.mean_absolute_error(test_sln, preds))\n",
        "print('MSE: ', metrics.mean_squared_error(test_sln, preds))\n",
        "print('R2: ', metrics.r2_score(test_sln, preds))"
      ],
      "metadata": {
        "colab": {
          "base_uri": "https://localhost:8080/"
        },
        "id": "eXrnffjzDQKr",
        "outputId": "2390bed2-7b1c-41ed-a045-5623be549204"
      },
      "execution_count": 3,
      "outputs": [
        {
          "output_type": "stream",
          "name": "stdout",
          "text": [
            "MAE:  90.86150212564951\n",
            "MSE:  10829.872176306746\n",
            "R2:  -0.0013397865841056067\n"
          ]
        }
      ]
    },
    {
      "cell_type": "markdown",
      "source": [
        "I ran a dummy regressor to get a baseline of my model. Clearly as a baseline the model is very ineffective."
      ],
      "metadata": {
        "id": "o0gEaZMrDYJP"
      }
    },
    {
      "cell_type": "code",
      "source": [
        "#KNN\n",
        "knn = neighbors.KNeighborsRegressor()\n",
        "knn.fit(train_data, train_sln)\n",
        "\n",
        "predictions1 = knn.predict(test_data)\n",
        "\n",
        "print('MSE: ', metrics.mean_squared_error(test_sln, predictions1))\n",
        "print('MAE: ', metrics.mean_absolute_error(test_sln, predictions1))\n",
        "print('r2: ', metrics.r2_score(test_sln, predictions1))"
      ],
      "metadata": {
        "colab": {
          "base_uri": "https://localhost:8080/"
        },
        "id": "8H862baWDm86",
        "outputId": "face77e5-728f-405a-e593-cb7b0da80d48"
      },
      "execution_count": 4,
      "outputs": [
        {
          "output_type": "stream",
          "name": "stdout",
          "text": [
            "MSE:  474.8904109589041\n",
            "MAE:  17.378082191780816\n",
            "r2:  0.9560912026458844\n"
          ]
        }
      ]
    },
    {
      "cell_type": "code",
      "source": [
        "#graph\n",
        "import matplotlib.pyplot as plt \n",
        "%matplotlib inline\n",
        "\n",
        "r2_series1 = []\n",
        "\n",
        "for i in range(1, 150, 5):\n",
        "  knn = neighbors.KNeighborsRegressor(n_neighbors = i)\n",
        "  knn.fit(train_data, train_sln)\n",
        "  predictions1 = knn.predict(test_data)\n",
        "  r2_series1.append(metrics.r2_score(test_sln, predictions1))\n",
        "\n",
        "#plot it!\n",
        "xvals = range(1, 150, 5)\n",
        "plt.suptitle('r2 by values K', fontsize=18)\n",
        "plt.xlabel('k')\n",
        "plt.ylabel('r2')\n",
        "plt.plot(xvals, r2_series1, 'r,-', label='r2')\n",
        "plt.legend(loc='lower right', shadow=True)\n",
        "plt.axis([1, 150, 0, 1])\n",
        "plt.show()"
      ],
      "metadata": {
        "colab": {
          "base_uri": "https://localhost:8080/",
          "height": 308
        },
        "id": "6EQ8Pbn8IHRy",
        "outputId": "d4c0dfae-42b5-4e13-d5bf-69117d7f8589"
      },
      "execution_count": 8,
      "outputs": [
        {
          "output_type": "display_data",
          "data": {
            "text/plain": [
              "<Figure size 432x288 with 1 Axes>"
            ],
            "image/png": "[encoded data removed]"
          },
          "metadata": {
            "needs_background": "light"
          }
        }
      ]
    },
    {
      "cell_type": "code",
      "source": [
        "#W-KNN\n",
        "W_neigh = neighbors.KNeighborsRegressor(weights = 'distance')\n",
        "W_neigh.fit(train_data, train_sln)\n",
        "predictions4 = W_neigh.predict(test_data)\n",
        "\n",
        "# use a metric to see how good our predictions are\n",
        "print('MSE: ', metrics.mean_squared_error(test_sln, predictions4))\n",
        "print('MAE: ', metrics.mean_absolute_error(test_sln, predictions4))\n",
        "print('r2: ', metrics.r2_score(test_sln, predictions4))"
      ],
      "metadata": {
        "colab": {
          "base_uri": "https://localhost:8080/"
        },
        "id": "oYssQRB7Dq5G",
        "outputId": "203977d5-e45d-4f29-bcf7-61e45e070d7e"
      },
      "execution_count": 19,
      "outputs": [
        {
          "output_type": "stream",
          "name": "stdout",
          "text": [
            "MSE:  455.15863063411166\n",
            "MAE:  16.89304649987181\n",
            "r2:  0.9579156209194979\n"
          ]
        }
      ]
    },
    {
      "cell_type": "code",
      "source": [
        "#graph\n",
        "import matplotlib.pyplot as plt \n",
        "%matplotlib inline\n",
        "\n",
        "r2_series2 = []\n",
        "\n",
        "for i in range(1, 150, 5):\n",
        "  W_neigh = neighbors.KNeighborsRegressor(weights = 'distance', n_neighbors = i)\n",
        "  W_neigh.fit(train_data, train_sln)\n",
        "  predictions4 = W_neigh.predict(test_data)\n",
        "  r2_series2.append(metrics.r2_score(test_sln, predictions4))\n",
        "\n",
        "#plot it!\n",
        "xvals = range(1, 150, 5)\n",
        "plt.suptitle('r2 by values K', fontsize=18)\n",
        "plt.xlabel('k')\n",
        "plt.ylabel('r2')\n",
        "plt.plot(xvals, r2_series2, 'r,-', label='r2')\n",
        "plt.legend(loc='lower right', shadow=True)\n",
        "plt.axis([1, 150, 0, 1])\n",
        "plt.show()"
      ],
      "metadata": {
        "colab": {
          "base_uri": "https://localhost:8080/",
          "height": 308
        },
        "id": "-z7gIXA_IFo1",
        "outputId": "90c2f753-4633-475e-b0ef-72500446717c"
      },
      "execution_count": 20,
      "outputs": [
        {
          "output_type": "display_data",
          "data": {
            "text/plain": [
              "<Figure size 432x288 with 1 Axes>"
            ],
            "image/png": "[encoded data removed]"
          },
          "metadata": {
            "needs_background": "light"
          }
        }
      ]
    },
    {
      "cell_type": "code",
      "source": [
        "#Decision tree\n",
        "dtr1 = tree.DecisionTreeRegressor(max_depth = 3)\n",
        "dtr1.fit(train_data, train_sln)\n",
        "dtr_preds1 = dtr1.predict(test_data)\n",
        "dtr_1 = metrics.r2_score(dtr_preds1, test_sln)\n",
        "print('R2 =', dtr_1)"
      ],
      "metadata": {
        "colab": {
          "base_uri": "https://localhost:8080/"
        },
        "id": "_cPeBApFDvz1",
        "outputId": "e4dff56b-c986-417b-d3f8-f885452f9643"
      },
      "execution_count": 28,
      "outputs": [
        {
          "output_type": "stream",
          "name": "stdout",
          "text": [
            "R2 = 0.9803549226484134\n"
          ]
        }
      ]
    },
    {
      "cell_type": "code",
      "source": [
        "#graph\n",
        "tree.plot_tree(dtr1.fit(train_data, train_sln), filled=True, proportion=True, fontsize=5)"
      ],
      "metadata": {
        "colab": {
          "base_uri": "https://localhost:8080/",
          "height": 516
        },
        "id": "V1Znmy7iID1v",
        "outputId": "d8c4c9a3-869e-4642-989b-357581a260d3"
      },
      "execution_count": 40,
      "outputs": [
        {
          "output_type": "execute_result",
          "data": {
            "text/plain": [
              "[Text(0.5, 0.875, 'X[0] <= 185.0\\nsquared_error = 11019.359\\nsamples = 100.0%\\nvalue = 181.234'),\n",
              " Text(0.25, 0.625, 'X[0] <= 93.5\\nsquared_error = 2817.253\\nsamples = 52.4%\\nvalue = 94.724'),\n",
              " Text(0.125, 0.375, 'X[0] <= 48.5\\nsquared_error = 777.094\\nsamples = 25.5%\\nvalue = 48.014'),\n",
              " Text(0.0625, 0.125, 'squared_error = 207.443\\nsamples = 13.1%\\nvalue = 24.368'),\n",
              " Text(0.1875, 0.125, 'squared_error = 165.305\\nsamples = 12.4%\\nvalue = 72.972'),\n",
              " Text(0.375, 0.375, 'X[0] <= 140.0\\nsquared_error = 719.037\\nsamples = 26.9%\\nvalue = 139.038'),\n",
              " Text(0.3125, 0.125, 'squared_error = 181.677\\nsamples = 13.8%\\nvalue = 116.15'),\n",
              " Text(0.4375, 0.125, 'squared_error = 152.746\\nsamples = 13.1%\\nvalue = 163.132'),\n",
              " Text(0.75, 0.625, 'X[0] <= 271.0\\nsquared_error = 2730.525\\nsamples = 47.6%\\nvalue = 276.522'),\n",
              " Text(0.625, 0.375, 'X[0] <= 224.5\\nsquared_error = 596.474\\nsamples = 21.0%\\nvalue = 225.574'),\n",
              " Text(0.5625, 0.125, 'squared_error = 116.625\\nsamples = 10.0%\\nvalue = 203.172'),\n",
              " Text(0.6875, 0.125, 'squared_error = 164.422\\nsamples = 11.0%\\nvalue = 245.875'),\n",
              " Text(0.875, 0.375, 'X[0] <= 316.5\\nsquared_error = 735.766\\nsamples = 26.6%\\nvalue = 316.883'),\n",
              " Text(0.8125, 0.125, 'squared_error = 168.535\\nsamples = 13.1%\\nvalue = 292.868'),\n",
              " Text(0.9375, 0.125, 'squared_error = 179.023\\nsamples = 13.4%\\nvalue = 340.282')]"
            ]
          },
          "metadata": {},
          "execution_count": 40
        },
        {
          "output_type": "display_data",
          "data": {
            "text/plain": [
              "<Figure size 432x288 with 1 Axes>"
            ],
            "image/png": "[encoded data removed]"
          },
          "metadata": {
            "needs_background": "light"
          }
        }
      ]
    },
    {
      "cell_type": "code",
      "source": [
        "#Random Forest\n",
        "\n",
        "from sklearn.model_selection import train_test_split\n",
        "\n",
        "from sklearn.ensemble import RandomForestRegressor\n",
        "from sklearn import ensemble\n",
        "from sklearn.metrics import accuracy_score\n",
        "from sklearn import tree\n",
        "from sklearn import metrics\n",
        "\n",
        "forest = ensemble.RandomForestRegressor(random_state = 0)\n",
        "forest.fit(train_data, train_sln)\n",
        "predictions7 = forest.predict(test_data)\n",
        "\n",
        "\n",
        "print('MSE: ', metrics.mean_squared_error(test_sln, predictions7))\n",
        "print('MAE: ', metrics.mean_absolute_error(test_sln, predictions7))\n",
        "print('r2: ', metrics.r2_score(test_sln, predictions7))"
      ],
      "metadata": {
        "colab": {
          "base_uri": "https://localhost:8080/"
        },
        "id": "9wOdT2QKD4HM",
        "outputId": "acd5a186-453c-42df-ab82-f46814e0e113"
      },
      "execution_count": 46,
      "outputs": [
        {
          "output_type": "stream",
          "name": "stdout",
          "text": [
            "MSE:  10.054794520547945\n",
            "MAE:  2.5205479452054793\n",
            "r2:  0.9990703245952081\n"
          ]
        }
      ]
    },
    {
      "cell_type": "code",
      "source": [
        "#graph\n",
        "r2_series4 = []\n",
        "\n",
        "for i in range(1, 100, 2):\n",
        "  forest = ensemble.RandomForestRegressor(n_estimators = i)\n",
        "  forest.fit(train_data, train_sln)\n",
        "  predictions7 = forest.predict(test_data)\n",
        "  r2_series4.append(metrics.r2_score(test_sln, predictions7))\n",
        "\n",
        "#plot it!\n",
        "xvals = range(1, 100, 2)\n",
        "plt.suptitle('r2 by N value', fontsize=18)\n",
        "plt.xlabel('N value')\n",
        "plt.ylabel('r2')\n",
        "plt.plot(xvals, r2_series4, 'r,-', label='r2')\n",
        "plt.legend(loc='lower right', shadow=True)\n",
        "plt.axis([1, 100, 0, 2])\n",
        "plt.show()"
      ],
      "metadata": {
        "colab": {
          "base_uri": "https://localhost:8080/",
          "height": 308
        },
        "id": "o_vtZyezIB1W",
        "outputId": "3a723485-3dd7-485b-cec9-4caf68fafa22"
      },
      "execution_count": 45,
      "outputs": [
        {
          "output_type": "display_data",
          "data": {
            "text/plain": [
              "<Figure size 432x288 with 1 Axes>"
            ],
            "image/png": "[encoded data removed]"
          },
          "metadata": {
            "needs_background": "light"
          }
        }
      ]
    },
    {
      "cell_type": "markdown",
      "source": [
        "#4. Analysis\n",
        "\n",
        "What did you discover? What insights/recommendations do you have? What did you find that was interesting? Which model was your best model, which models didn't work well? Why do you think this is? In general, I want a discussion of your experiment, the results, and what they mean."
      ],
      "metadata": {
        "id": "2Qu9bYPLmiv_"
      }
    },
    {
      "cell_type": "markdown",
      "source": [
        "I discovered that the metrics used in the Kenpom rankings very accurately predict the rank which makes sense given the rankings are based on the metric. I played around with removing some of metrics to see if offense or defense predicted ranking and the models were all about equally effective in predicting ranking. Because of the nature of my dataset my model was always going to be a good predictor. My random forest was my best model which also makes sense just given how it works will optimize the model. None of my models did not work well with my worst model being my KNN which had a r2 of .96. Thus, overall the predictor variables in my model are very good predictors of ranking."
      ],
      "metadata": {
        "id": "k17sKBZUmqIH"
      }
    },
    {
      "cell_type": "markdown",
      "source": [
        "# 5. Bumps in the Road\n",
        "What challenges did you encounter? How did you overcome these challenges?"
      ],
      "metadata": {
        "id": "TemAuKxlm6dQ"
      }
    },
    {
      "cell_type": "markdown",
      "source": [
        "For this project I did not run into too many issues, the one small struggle I had was with scraping the data from the internet, slightly transforming it (Changing a record in \"Win-Loss\" format to seperate win and loss columns), and converting it  to a CSV but it was relatively simple once I got it into excel formatted correctly."
      ],
      "metadata": {
        "id": "zXEVEG9FnHgQ"
      }
    }
  ]
}